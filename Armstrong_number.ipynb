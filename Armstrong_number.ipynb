{
  "nbformat": 4,
  "nbformat_minor": 0,
  "metadata": {
    "colab": {
      "provenance": []
    },
    "kernelspec": {
      "name": "python3",
      "display_name": "Python 3"
    },
    "language_info": {
      "name": "python"
    }
  },
  "cells": [
    {
      "cell_type": "code",
      "execution_count": 5,
      "metadata": {
        "colab": {
          "base_uri": "https://localhost:8080/"
        },
        "id": "CHoa56G3RRn8",
        "outputId": "782f461e-aa53-47a8-8404-2e3a15eeac7d"
      },
      "outputs": [
        {
          "output_type": "stream",
          "name": "stdout",
          "text": [
            "Enter a number: 1634\n",
            "1634 is an Armstrong number\n"
          ]
        }
      ],
      "source": [
        "num= int(input('Enter a number: '))\n",
        "num_str=str(num)\n",
        "num_digits=len(num_str)\n",
        "sum_of_digits=0\n",
        "temp_num=num\n",
        "while temp_num>0:\n",
        "  digit=temp_num%10\n",
        "  sum_of_digits+=digit**num_digits\n",
        "  temp_num//=10\n",
        "if sum_of_digits==num:\n",
        "  print(num, 'is an Armstrong number')\n",
        "else:\n",
        "  print(num, 'is not an Armstrong number')\n",
        "\n"
      ]
    }
  ]
}